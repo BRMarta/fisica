{
  "cells": [
    {
      "cell_type": "markdown",
      "source": [
        "# Partícula en un campo magnético"
      ],
      "metadata": {}
    },
    {
      "cell_type": "markdown",
      "source": [
        "## Planteamiento\n",
        "Un electrón con una capacidad de trabajo de $72090×10^{−19}$ J orbita de manera perpendicular a un campo magnético de 3250 G. ¿Cuál es el radio de la órbita? ¿Y su frecuencia y periodo angular? ¿A qué velocidad va? Resuelve el mismo ejercicio para un antineutrón."
      ],
      "metadata": {}
    },
    {
      "cell_type": "markdown",
      "source": [
        "<img src=\"http://www.victoriasierra.es/wp-content/uploads/2020/11/CampoMagnetico.jpg\" width=\"250px\" />"
      ],
      "metadata": {}
    },
    {
      "cell_type": "markdown",
      "source": [
        "## Resolución\n",
        "### Entorno\n",
        "Lenguaje de programación Python y su librería sympy para así importar lo necesario en términos físicos para los cálculos según los datos que nos proporciona el planteamiento."
      ],
      "metadata": {}
    },
    {
      "cell_type": "markdown",
      "source": [
        "### Cálculo del radio\n",
        "\n",
        "1.- Inicialmente tenemos que transformar los Gauss del campo magnético a la unidad del Sistema Internacional, el Tesla, para ello importamos lo siguiente:  \n",
        "* Gauss del Sistema Cegesimal\n",
        "* El sistema de unidades Internacional\n",
        "* La unidad densidad de flujo magnético\n",
        "\n",
        "Asociamos la unidad Gauss a la densidad de flujo magnético del Sistema Internacional e importamos también la unidad Tesla, y ya con todo esto importado relacionamos la equivalencia de 1 Gauss con respecto al Tesla y creamos una variable con los Gauss del planteamiento "
      ],
      "metadata": {}
    },
    {
      "cell_type": "code",
      "source": [
        "from sympy.physics.units import Quantity\n",
        "\n",
        "Gs = Quantity(\"Gauss\")\n",
        "\n",
        "from sympy.physics.units.systems import SI\n",
        "from sympy.physics.units.systems.si import dimsys_SI\n",
        "\n",
        "from sympy.physics.units import magnetic_flux_density\n",
        "\n",
        "SI.set_quantity_dimension(Gs, magnetic_flux_density)\n",
        "\n",
        "from sympy.physics.units import tesla\n",
        "\n",
        "SI.set_quantity_scale_factor(Gs, 1E-4*tesla)\n",
        "\n",
        "B = 3250 * Gs   \n"
      ],
      "outputs": [],
      "execution_count": 4,
      "metadata": {}
    },
    {
      "cell_type": "markdown",
      "source": [
        "Definimos también la capacidad de trabajo, la carga del electrón e importamos lo necesario para la resolución de ecuaciones"
      ],
      "metadata": {}
    },
    {
      "cell_type": "code",
      "source": [
        "from sympy.physics.units import joule\n",
        "\n",
        "E = 72090E-19 * joule\n",
        "\n",
        "from sympy import solve, symbols, pi, Eq\n",
        "\n",
        "r = symbols(\"r_giro\")\n",
        "\n",
        "v = symbols(\"v_giro\")\n",
        "\n",
        "from sympy.physics.units import electronvolt\n",
        "from sympy.physics.units import volt\n",
        "\n",
        "q = 1*electronvolt/volt\n",
        "\n",
        "from sympy.physics.units import speed_of_light as c\n",
        "from sympy.physics.units import joule, electronvolt, convert_to\n",
        "\n",
        "print(\"Equivalencia entre electronvoltios y Julios: \",convert_to(electronvolt, joule))\n"
      ],
      "outputs": [
        {
          "output_type": "stream",
          "name": "stdout",
          "text": [
            "Equivalencia entre electronvoltios y Julios:  1.602176634e-19*joule\n"
          ]
        }
      ],
      "execution_count": 6,
      "metadata": {}
    },
    {
      "cell_type": "code",
      "source": [
        "m = 0.5 * 1E6 * electronvolt / c**2\n",
        "print(m)"
      ],
      "outputs": [
        {
          "output_type": "stream",
          "name": "stdout",
          "text": [
            "500000.0*electronvolt/speed_of_light**2\n"
          ]
        }
      ],
      "execution_count": 7,
      "metadata": {}
    },
    {
      "cell_type": "markdown",
      "source": [
        "* Ecuación de Lorentz $$ F = q_e v_e B$$\n",
        "    * Aplicación de la Ley de Newton  $$F = \\frac {m v^2}{r}$$\n",
        "* Energía Cinética $$ E_c = \\frac {1}{2}m v^2$$"
      ],
      "metadata": {}
    },
    {
      "cell_type": "markdown",
      "source": [
        "Teniendo la energía cinética del electrón: $72090×10^{−19}$ J"
      ],
      "metadata": {}
    },
    {
      "cell_type": "code",
      "source": [
        "eq_lorentz = Eq(q*v*B, (m*v**2)/r)\n",
        "eq_ecinetica = Eq(E, 0.5*m*v**2)"
      ],
      "outputs": [],
      "execution_count": 9,
      "metadata": {}
    },
    {
      "cell_type": "markdown",
      "source": [
        "En base a las dos ecuaciones previas, despejamos las incógnitas v y r definidas anteriormente, y asignamos a la variable radio el resultado de la segunda incógnita "
      ],
      "metadata": {}
    },
    {
      "cell_type": "code",
      "source": [
        "solucion_v_r = solve([eq_ecinetica, eq_lorentz], [v, r])[1]\n",
        "\n",
        "radio = solucion_v_r[1]"
      ],
      "outputs": [],
      "execution_count": 10,
      "metadata": {}
    },
    {
      "cell_type": "markdown",
      "source": [
        "Realizamos la conversión a unidades de longitud del Sistema Internacional para obtener el radio en metros"
      ],
      "metadata": {}
    },
    {
      "cell_type": "code",
      "source": [
        "from sympy.physics.units import convert_to\n",
        "from sympy.physics.units import meter, day\n",
        "\n",
        "radio = convert_to(radio, [meter]).n(2)\n",
        "\n",
        "print(\"Radio: \",radio)"
      ],
      "outputs": [
        {
          "output_type": "stream",
          "name": "stdout",
          "text": [
            "Radio:  0.0022*meter\n"
          ]
        }
      ],
      "execution_count": 11,
      "metadata": {}
    },
    {
      "cell_type": "markdown",
      "source": [
        "### Cálculo de la frecuencia, periodo angular y velocidad\n",
        "\n",
        "El periodo angular y la frecuencia son dos medidas relacionadas de manera inversa, por lo que siendo la fórmula del periodo angular (tiempo en que el electrón tarda en dar una vuelta entera): \n",
        "$$T = \\frac {2 \\pi r } {v} $$\n",
        "Siendo la fórmula del radio:\n",
        "$$r = \\frac{mv}{qB}$$\n",
        "Por lo que sustituyendo el radio en el periodo:\n",
        "$$T = \\frac {2 \\pi m} {q B} $$\n",
        "La frecuencia (vueltas por segundo) se podrá calcular como: \n",
        "$$f = \\frac {1} {T}  $$\n",
        "Y la velocidad angular (ω):\n",
        "$$ω = 2πf $$\n",
        "Siendo 2π la velocidad si se da una vuelta en un segundo expresado en radianes/segundo\n",
        "\n",
        "\n",
        "\n"
      ],
      "metadata": {}
    },
    {
      "cell_type": "code",
      "source": [
        "from sympy.physics.units import second\n",
        "T = (2*pi.evalf()*m)/(q*B)\n",
        "T=convert_to(T, second)\n",
        "f = 1/T\n",
        "w = 2*pi.evalf()*f\n",
        "print (\"Periodo angular: \", T)\n",
        "print (\"Frecuencia: \", f)\n",
        "print (\"Velocidad: \",w)"
      ],
      "outputs": [
        {
          "output_type": "stream",
          "name": "stdout",
          "text": [
            "Periodo angular:  1.07553638218902e-10*second\n",
            "Frecuencia:  9297686406.15129/second\n",
            "Velocidad:  58419086617.8932/second\n"
          ]
        }
      ],
      "execution_count": 19,
      "metadata": {}
    },
    {
      "cell_type": "markdown",
      "source": [
        "### Antineutrón\n",
        "Dado que un antineutrón tiene carga neta 0, no dispone de la propiedad necesaria para que el campo magnético interactúe con él, por lo que no tendrá efecto sobre el antineutrón y este no orbitará entorno al campo  magnético. "
      ],
      "metadata": {}
    },
    {
      "cell_type": "markdown",
      "source": [
        "### En el código anterior: ¿por qué indicamos que las dimensiones de la unidad gauss (definida por nosotros) son de densidad de flujo magnético (magnetic_flux_density)? ¿Por qué la carga del electrón se ha definido como electronvolt/volt?"
      ],
      "metadata": {}
    },
    {
      "cell_type": "markdown",
      "source": [
        "\n",
        "La unidad de Gauss (G) es la unidad de la densidad del flujo magnético en el Sistema Cegesimal y tiene su equivalencia en el Sistema Internacional con el Tesla siguiendo la relación: \n",
        "$$1* G = 10^{−4}*T$$\n",
        "A pesar de la prevalecencia a día de hoy del Sistema Internacional, la unidad de Gauss se sigue utilizando para medidas pequeñas como aquellas asociadas a los gradianes (entre otros), relacionados a su vez con la frecuencia angular.\n",
        "\n",
        "La carga del electrón se ha definido como electronvolt/volt por la relación de equivalencia entre energía y masa dada por $E = mc^2$. Dado que el electronvolt es la energía obtenida por un electrón en su desplazamiento entre dos puntos cuando la diferencia de potencial del campo eléctrico es de 1 voltio. Por la relación que la relatividad da a la energía y la masa a través de electronvoltios, se puede obtener la masa del electrón. "
      ],
      "metadata": {}
    }
  ],
  "metadata": {
    "language_info": {
      "codemirror_mode": {
        "name": "ipython",
        "version": 3
      },
      "file_extension": ".py",
      "mimetype": "text/x-python",
      "name": "python",
      "nbconvert_exporter": "python",
      "pygments_lexer": "ipython3",
      "version": "3.7.9-final"
    },
    "orig_nbformat": 2,
    "kernelspec": {
      "name": "python3",
      "display_name": "Python 3"
    },
    "nteract": {
      "version": "0.27.0"
    }
  },
  "nbformat": 4,
  "nbformat_minor": 2
}